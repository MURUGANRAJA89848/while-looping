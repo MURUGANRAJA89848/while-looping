{
 "cells": [
  {
   "cell_type": "markdown",
   "id": "80f22a9f",
   "metadata": {},
   "source": [
    "# Reversed by using while loop"
   ]
  },
  {
   "cell_type": "code",
   "execution_count": 17,
   "id": "071b2662",
   "metadata": {},
   "outputs": [
    {
     "name": "stdout",
     "output_type": "stream",
     "text": [
      "Enter the +ve Number:123\n",
      "Reversed Number: 321\n"
     ]
    },
    {
     "data": {
      "text/plain": [
       "int"
      ]
     },
     "execution_count": 17,
     "metadata": {},
     "output_type": "execute_result"
    }
   ],
   "source": [
    "#question1, write a python program by using while loop to reverse a given +ve interger\n",
    "A=int(input('Enter the +ve Number:')) #Assign A variable for +ve integer from user 123\n",
    "Reversed_=0                           #Assumed variable of reversed_\n",
    "while A!=0:                           #while loop condition is A variable is not equal to zero\n",
    "    Reminder=A%10                     #Reminder Calculate\n",
    "    Reversed_=Reversed_*10+Reminder   #Reversed calculation\n",
    "    A//=10                            #floor division applied in A veriable \n",
    "print(\"Reversed Number:\",Reversed_)   #Display the result.\n",
    "type(Reversed_)                       #type of reversed_ variable"
   ]
  },
  {
   "cell_type": "markdown",
   "id": "c294ac50",
   "metadata": {},
   "source": [
    "# palindrome by using while loop"
   ]
  },
  {
   "cell_type": "code",
   "execution_count": 15,
   "id": "61da3455",
   "metadata": {},
   "outputs": [
    {
     "name": "stdout",
     "output_type": "stream",
     "text": [
      "Enter the +ve Number:111\n",
      "Give input value is palindrome\n"
     ]
    }
   ],
   "source": [
    "#question2, write a python program by using while loop to check it a given +ve number is a palindrome or not.\n",
    "A=int(input('Enter the +ve Number:'))      #Assign A variable for +ve integer from user 111\n",
    "B=A                                        #Assume the variable of B\n",
    "C=0                                        #Assume the variable of C\n",
    "while A>0:                                 #while loop condition is A variable is graterthan to zero\n",
    "    Reminder=A%10                          #Assign a Reminder varaible Calculate reminder value\n",
    "    C=C*10+Reminder                        #Assign Variable C calculation value C is multiplication of ten addinf reminder value\n",
    "    A//=10                                 #floor division applied in A veriable \n",
    "if B==C:                                   #Comparesion of varaible of B is equal to C of varaiable \n",
    "    print(\"Give input value is palindrome\")#if condition is true display the result is palindrom \n",
    "else:\n",
    "    print(\"Not a palindrome\")               "
   ]
  },
  {
   "cell_type": "markdown",
   "id": "13b3c340",
   "metadata": {},
   "source": [
    "# Not palindrome by using while loop"
   ]
  },
  {
   "cell_type": "code",
   "execution_count": 16,
   "id": "e3d6c89b",
   "metadata": {},
   "outputs": [
    {
     "name": "stdout",
     "output_type": "stream",
     "text": [
      "Enter the +ve Number:123\n",
      "Not a palindrome\n"
     ]
    }
   ],
   "source": [
    "#question2, write a python program by using while loop to check it a given +ve number is a palindrome or not.\n",
    "A=int(input('Enter the +ve Number:'))      #Assign A variable for +ve integer from user 123\n",
    "B=A                                        #Assume the variable of B\n",
    "C=0                                        #Assume the variable of C\n",
    "while A>0:                                 #while loop condition is A variable is graterthan to zero\n",
    "    Reminder=A%10                          #Assign a Reminder varaible Calculate reminder value\n",
    "    C=C*10+Reminder                        #Assign Variable C calculation value C is multiplication of ten addinf reminder value\n",
    "    A//=10                                 #floor division applied in A veriable \n",
    "if B==C:                                   #Comparesion of varaible of B is equal to C of varaiable \n",
    "    print(\"Give input value is palindrome\")#if condition is true display the result is palindrom \n",
    "else:\n",
    "    print(\"Not a palindrome\")      "
   ]
  },
  {
   "cell_type": "markdown",
   "id": "bb1854e0",
   "metadata": {},
   "source": [
    "# Sum of two digit number by using while loop"
   ]
  },
  {
   "cell_type": "code",
   "execution_count": 47,
   "id": "23de1d0b",
   "metadata": {},
   "outputs": [
    {
     "name": "stdout",
     "output_type": "stream",
     "text": [
      "Enter the +ve number:55\n",
      "Answer: 10\n"
     ]
    }
   ],
   "source": [
    "#question3 write a python program by using while loop to find the sum of digits in a given +ve number.\n",
    "A=int(input('Enter the +ve number:')) #Assign A variable for +ve integer from user 66\n",
    "sum_= 0                               #Assume the variable of sum_\n",
    "while(A!=0):                          #while loop condition is A variable is not equal to zero\n",
    "    sum_=sum_+(A%10)                  #sum calculation\n",
    "    A=A//10                           #floor division\n",
    "print('Answer:',sum_)                 #display the result"
   ]
  },
  {
   "cell_type": "markdown",
   "id": "84183264",
   "metadata": {},
   "source": [
    "# largest digit by using while loop"
   ]
  },
  {
   "cell_type": "code",
   "execution_count": 75,
   "id": "8d3814ef",
   "metadata": {},
   "outputs": [
    {
     "name": "stdout",
     "output_type": "stream",
     "text": [
      "Enter the +ve number:12345\n",
      "Answer: 5\n"
     ]
    }
   ],
   "source": [
    "#question4 write a python program by using while loop to find the largest digit in a given +ve number.\n",
    "A=int(input('Enter the +ve number:'))            #Assign A variable for +ve integer from user 12345\n",
    "largest_digit=0                                  #Assume the variable of largest_digit\n",
    "while (A>0):                                     #while loop condition is A variable is greaterthan zero\n",
    "    largest_digit=max(largest_digit,(A%10))      #largest_digit calculation\n",
    "    A=A//10                                      #floor division\n",
    "print('Answer:',largest_digit)                   #display the resultf for largest number from given input"
   ]
  },
  {
   "cell_type": "markdown",
   "id": "c796b0fd",
   "metadata": {},
   "source": [
    "# Count the number of given digits"
   ]
  },
  {
   "cell_type": "code",
   "execution_count": 102,
   "id": "2de351a6",
   "metadata": {},
   "outputs": [
    {
     "name": "stdout",
     "output_type": "stream",
     "text": [
      "Enter the +value:100\n",
      "Number of digits: 3\n"
     ]
    }
   ],
   "source": [
    "#question4 write a python program by using while loop to find the count digit in a given +ve number.\n",
    "A=int(input('Enter the +value:'))      #Assign A variable for +ve integer from user 100\n",
    "count = 0                              #Assume the variable of count equal to zero\n",
    "while A!=0:                            #while loop condition is A variable is not eqial to zero\n",
    "    A//=10                             #floor division\n",
    "    count=count+1                      #increment of count value\n",
    "print(\"Number of digits:\"+str(count))  #diplay the result is number of digits"
   ]
  }
 ],
 "metadata": {
  "kernelspec": {
   "display_name": "Python 3 (ipykernel)",
   "language": "python",
   "name": "python3"
  },
  "language_info": {
   "codemirror_mode": {
    "name": "ipython",
    "version": 3
   },
   "file_extension": ".py",
   "mimetype": "text/x-python",
   "name": "python",
   "nbconvert_exporter": "python",
   "pygments_lexer": "ipython3",
   "version": "3.11.5"
  }
 },
 "nbformat": 4,
 "nbformat_minor": 5
}
